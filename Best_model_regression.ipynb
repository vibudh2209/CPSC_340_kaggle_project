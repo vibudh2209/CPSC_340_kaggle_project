{
 "cells": [
  {
   "cell_type": "code",
   "execution_count": 6,
   "metadata": {},
   "outputs": [],
   "source": [
    "import numpy as np\n",
    "import pandas as pd\n",
    "from sklearn.ensemble import RandomForestRegressor,GradientBoostingRegressor\n",
    "import time, random\n",
    "import multiprocessing\n",
    "from multiprocessing import Pool\n",
    "from contextlib import closing\n",
    "from functools import partial\n",
    "from sklearn.metrics import precision_score,recall_score,accuracy_score,roc_curve,auc,mean_squared_error\n",
    "from scipy.stats import mode\n",
    "import argparse\n",
    "from sklearn.externals import joblib\n",
    "import matplotlib.pyplot as plt"
   ]
  },
  {
   "cell_type": "code",
   "execution_count": 2,
   "metadata": {},
   "outputs": [],
   "source": [
    "def rf_regressor(feat):\n",
    "    t=time.time()\n",
    "    max_features,n_estimators = feat\n",
    "    X_train = pd.read_csv('train_regression_X.csv',sep=',',header=0).values\n",
    "    y_train = pd.read_csv('train_regression_y.csv',sep=',',header=None).values\n",
    "    y_train = np.log(1+y_train)\n",
    "    X_pos = np.array([X_train[i,:] for i in range(X_train.shape[0]) if (y_train[i]>0)])\n",
    "    y_pos = y_train[y_train>0]\n",
    "    X_neg = np.array([X_train[i,:] for i in range(X_train.shape[0]) if (y_train[i]==0)])\n",
    "    y_neg = y_train[y_train==0]\n",
    "    over_samp_ct = 100000\n",
    "    _,d = X_pos.shape\n",
    "    n_pos_train = X_pos.shape[0]\n",
    "    n_neg_train = X_neg.shape[0]\n",
    "    Over_under_X_train = np.zeros([over_samp_ct*2,d])\n",
    "    Over_under_y_train = np.zeros([over_samp_ct*2,])\n",
    "    for i in range(over_samp_ct):\n",
    "        idx_pos = random.randint(0,n_pos_train-1)\n",
    "        idx_neg = random.randint(0,n_neg_train-1)\n",
    "        Over_under_X_train[2*i,:] = X_pos[idx_pos,:]\n",
    "        Over_under_y_train[2*i] = y_pos[idx_pos]\n",
    "        Over_under_X_train[2*i+1,:] = X_neg[idx_neg,:]\n",
    "        Over_under_y_train[2*i+1] = y_neg[idx_neg]\n",
    "    rf = RandomForestRegressor(n_estimators=n_estimators,max_features=max_features).fit(Over_under_X_train,Over_under_y_train)\n",
    "    X_pos = []\n",
    "    y_pos = []\n",
    "    X_neg = []\n",
    "    y_neg = []\n",
    "    Over_under_X_train = []\n",
    "    Over_under_y_train = []\n",
    "    X_valid = pd.read_csv('valid_regression_X.csv',sep=',',header=0).values\n",
    "    y_valid = pd.read_csv('valid_regression_y.csv',sep=',',header=None).values\n",
    "    y_valid = np.log(1+y_valid)\n",
    "    train_pred = rf.score(X_train,y_train)\n",
    "    valid_pred = rf.score(X_valid,y_valid)\n",
    "    y_valid_pred = rf.predict(X_valid)\n",
    "    print(valid_pred,mean_squared_error(y_valid,y_valid_pred))\n",
    "    joblib.dump(rf,'Random_forest_regressor_best.sav')\n",
    "    plt.figure()\n",
    "    plt.plot(y_valid,valid_pred)\n",
    "    plt.xlabel(\"True values\")\n",
    "    plt.ylabel(\"Predictions\")\n",
    "    plt.title(\"Prediction vs True, MSE: \"+str(np.round(mean_squared_error(y_valid,y_valid_pred),2)))\n",
    "    plt.savefig('Regression_rf.png')"
   ]
  },
  {
   "cell_type": "code",
   "execution_count": 3,
   "metadata": {},
   "outputs": [],
   "source": [
    "def gbm_regressor(feat):\n",
    "    t=time.time()\n",
    "    max_features,max_depth,learning_rate,n_estimators = feat\n",
    "    X_train = pd.read_csv('train_regression_X.csv',sep=',',header=0).values\n",
    "    y_train = pd.read_csv('train_regression_y.csv',sep=',',header=None).values\n",
    "    y_train = np.log(1+y_train)\n",
    "    X_pos = np.array([X_train[i,:] for i in range(X_train.shape[0]) if (y_train[i]>0)])\n",
    "    y_pos = y_train[y_train>0]\n",
    "    X_neg = np.array([X_train[i,:] for i in range(X_train.shape[0]) if (y_train[i]==0)])\n",
    "    y_neg = y_train[y_train==0]\n",
    "    over_samp_ct = 100000\n",
    "    _,d = X_pos.shape\n",
    "    n_pos_train = X_pos.shape[0]\n",
    "    n_neg_train = X_neg.shape[0]\n",
    "    Over_under_X_train = np.zeros([over_samp_ct*2,d])\n",
    "    Over_under_y_train = np.zeros([over_samp_ct*2,])\n",
    "    for i in range(over_samp_ct):\n",
    "        idx_pos = random.randint(0,n_pos_train-1)\n",
    "        idx_neg = random.randint(0,n_neg_train-1)\n",
    "        Over_under_X_train[2*i,:] = X_pos[idx_pos,:]\n",
    "        Over_under_y_train[2*i] = y_pos[idx_pos]\n",
    "        Over_under_X_train[2*i+1,:] = X_neg[idx_neg,:]\n",
    "        Over_under_y_train[2*i+1] = y_neg[idx_neg]\n",
    "    rf = GradientBoostingRegressor(n_estimators=n_estimators,max_features=max_features,max_depth=max_depth,learning_rate=learning_rate).fit(Over_under_X_train,Over_under_y_train)\n",
    "    X_pos = []\n",
    "    y_pos = []\n",
    "    X_neg = []\n",
    "    y_neg = []\n",
    "    Over_under_X_train = []\n",
    "    Over_under_y_train = []\n",
    "    X_valid = pd.read_csv('valid_regression_X.csv',sep=',',header=0).values\n",
    "    y_valid = pd.read_csv('valid_regression_y.csv',sep=',',header=None).values\n",
    "    y_valid = np.log(1+y_valid)\n",
    "    train_pred = rf.score(X_train,y_train)\n",
    "    valid_pred = rf.score(X_valid,y_valid)\n",
    "    \n",
    "    y_valid_pred = rf.predict(X_valid)\n",
    "    print(valid_pred,mean_squared_error(y_valid,y_valid_pred))\n",
    "    joblib.dump(rf,'GBM_regressor_best.sav')\n",
    "    plt.figure()\n",
    "    plt.plot(y_valid,y_valid_pred)\n",
    "    plt.xlabel(\"True values\")\n",
    "    plt.ylabel(\"Predictions\")\n",
    "    plt.title(\"Prediction vs True, MSE: \"+str(np.round(mean_squared_error(y_valid,y_valid_pred),2)))\n",
    "    plt.savefig('Regression_gbm.png')"
   ]
  },
  {
   "cell_type": "code",
   "execution_count": 4,
   "metadata": {},
   "outputs": [],
   "source": [
    "def which_class(ft):\n",
    "    cls,*ft = ft\n",
    "    if cls=='rf':\n",
    "        rf_regressor(ft)\n",
    "    elif cls=='gbm':\n",
    "        gbm_regressor(ft)"
   ]
  },
  {
   "cell_type": "code",
   "execution_count": 7,
   "metadata": {},
   "outputs": [
    {
     "name": "stdout",
     "output_type": "stream",
     "text": [
      "-0.6731261591073279 6.7666407517070795\n"
     ]
    },
    {
     "ename": "ValueError",
     "evalue": "x and y must have same first dimension, but have shapes (90366, 1) and (1,)",
     "output_type": "error",
     "traceback": [
      "\u001b[0;31m---------------------------------------------------------------------------\u001b[0m",
      "\u001b[0;31mRemoteTraceback\u001b[0m                           Traceback (most recent call last)",
      "\u001b[0;31mRemoteTraceback\u001b[0m: \n\"\"\"\nTraceback (most recent call last):\n  File \"/cvmfs/soft.computecanada.ca/easybuild/software/2017/Core/python/3.5.4/lib/python3.5/multiprocessing/pool.py\", line 119, in worker\n    result = (True, func(*args, **kwds))\n  File \"/cvmfs/soft.computecanada.ca/easybuild/software/2017/Core/python/3.5.4/lib/python3.5/multiprocessing/pool.py\", line 44, in mapstar\n    return list(map(*args))\n  File \"<ipython-input-4-eb24057c3fcb>\", line 4, in which_class\n    rf_regressor(ft)\n  File \"<ipython-input-2-f781230e1b36>\", line 40, in rf_regressor\n    plt.plot(y_valid,valid_pred)\n  File \"/home/vibudh/tensorflow/lib/python3.5/site-packages/matplotlib/pyplot.py\", line 2749, in plot\n    *args, scalex=scalex, scaley=scaley, data=data, **kwargs)\n  File \"/home/vibudh/tensorflow/lib/python3.5/site-packages/matplotlib/__init__.py\", line 1785, in inner\n    return func(ax, *args, **kwargs)\n  File \"/home/vibudh/tensorflow/lib/python3.5/site-packages/matplotlib/axes/_axes.py\", line 1604, in plot\n    for line in self._get_lines(*args, **kwargs):\n  File \"/home/vibudh/tensorflow/lib/python3.5/site-packages/matplotlib/axes/_base.py\", line 393, in _grab_next_args\n    yield from self._plot_args(this, kwargs)\n  File \"/home/vibudh/tensorflow/lib/python3.5/site-packages/matplotlib/axes/_base.py\", line 370, in _plot_args\n    x, y = self._xy_from_xy(x, y)\n  File \"/home/vibudh/tensorflow/lib/python3.5/site-packages/matplotlib/axes/_base.py\", line 231, in _xy_from_xy\n    \"have shapes {} and {}\".format(x.shape, y.shape))\nValueError: x and y must have same first dimension, but have shapes (90366, 1) and (1,)\n\"\"\"",
      "\nThe above exception was the direct cause of the following exception:\n",
      "\u001b[0;31mValueError\u001b[0m                                Traceback (most recent call last)",
      "\u001b[0;32m<ipython-input-7-60643a2c507d>\u001b[0m in \u001b[0;36m<module>\u001b[0;34m\u001b[0m\n\u001b[1;32m      1\u001b[0m \u001b[0mft\u001b[0m \u001b[0;34m=\u001b[0m \u001b[0;34m[\u001b[0m\u001b[0;34m[\u001b[0m\u001b[0;34m'rf'\u001b[0m\u001b[0;34m,\u001b[0m\u001b[0;36m10\u001b[0m\u001b[0;34m,\u001b[0m\u001b[0;36m800\u001b[0m\u001b[0;34m]\u001b[0m\u001b[0;34m,\u001b[0m\u001b[0;34m[\u001b[0m\u001b[0;34m'gbm'\u001b[0m\u001b[0;34m,\u001b[0m\u001b[0;36m40\u001b[0m\u001b[0;34m,\u001b[0m\u001b[0;36m7\u001b[0m\u001b[0;34m,\u001b[0m\u001b[0;36m0.1\u001b[0m\u001b[0;34m,\u001b[0m\u001b[0;36m1000\u001b[0m\u001b[0;34m]\u001b[0m\u001b[0;34m]\u001b[0m\u001b[0;34m\u001b[0m\u001b[0m\n\u001b[1;32m      2\u001b[0m \u001b[0;32mwith\u001b[0m \u001b[0mclosing\u001b[0m\u001b[0;34m(\u001b[0m\u001b[0mPool\u001b[0m\u001b[0;34m(\u001b[0m\u001b[0;36m2\u001b[0m\u001b[0;34m)\u001b[0m\u001b[0;34m)\u001b[0m \u001b[0;32mas\u001b[0m \u001b[0mpool\u001b[0m\u001b[0;34m:\u001b[0m\u001b[0;34m\u001b[0m\u001b[0m\n\u001b[0;32m----> 3\u001b[0;31m     \u001b[0mpool\u001b[0m\u001b[0;34m.\u001b[0m\u001b[0mmap\u001b[0m\u001b[0;34m(\u001b[0m\u001b[0mwhich_class\u001b[0m\u001b[0;34m,\u001b[0m\u001b[0mft\u001b[0m\u001b[0;34m)\u001b[0m\u001b[0;34m\u001b[0m\u001b[0m\n\u001b[0m",
      "\u001b[0;32m/cvmfs/soft.computecanada.ca/easybuild/software/2017/Core/python/3.5.4/lib/python3.5/multiprocessing/pool.py\u001b[0m in \u001b[0;36mmap\u001b[0;34m(self, func, iterable, chunksize)\u001b[0m\n\u001b[1;32m    264\u001b[0m         \u001b[0;32min\u001b[0m \u001b[0ma\u001b[0m \u001b[0mlist\u001b[0m \u001b[0mthat\u001b[0m \u001b[0;32mis\u001b[0m \u001b[0mreturned\u001b[0m\u001b[0;34m.\u001b[0m\u001b[0;34m\u001b[0m\u001b[0m\n\u001b[1;32m    265\u001b[0m         '''\n\u001b[0;32m--> 266\u001b[0;31m         \u001b[0;32mreturn\u001b[0m \u001b[0mself\u001b[0m\u001b[0;34m.\u001b[0m\u001b[0m_map_async\u001b[0m\u001b[0;34m(\u001b[0m\u001b[0mfunc\u001b[0m\u001b[0;34m,\u001b[0m \u001b[0miterable\u001b[0m\u001b[0;34m,\u001b[0m \u001b[0mmapstar\u001b[0m\u001b[0;34m,\u001b[0m \u001b[0mchunksize\u001b[0m\u001b[0;34m)\u001b[0m\u001b[0;34m.\u001b[0m\u001b[0mget\u001b[0m\u001b[0;34m(\u001b[0m\u001b[0;34m)\u001b[0m\u001b[0;34m\u001b[0m\u001b[0m\n\u001b[0m\u001b[1;32m    267\u001b[0m \u001b[0;34m\u001b[0m\u001b[0m\n\u001b[1;32m    268\u001b[0m     \u001b[0;32mdef\u001b[0m \u001b[0mstarmap\u001b[0m\u001b[0;34m(\u001b[0m\u001b[0mself\u001b[0m\u001b[0;34m,\u001b[0m \u001b[0mfunc\u001b[0m\u001b[0;34m,\u001b[0m \u001b[0miterable\u001b[0m\u001b[0;34m,\u001b[0m \u001b[0mchunksize\u001b[0m\u001b[0;34m=\u001b[0m\u001b[0;32mNone\u001b[0m\u001b[0;34m)\u001b[0m\u001b[0;34m:\u001b[0m\u001b[0;34m\u001b[0m\u001b[0m\n",
      "\u001b[0;32m/cvmfs/soft.computecanada.ca/easybuild/software/2017/Core/python/3.5.4/lib/python3.5/multiprocessing/pool.py\u001b[0m in \u001b[0;36mget\u001b[0;34m(self, timeout)\u001b[0m\n\u001b[1;32m    642\u001b[0m             \u001b[0;32mreturn\u001b[0m \u001b[0mself\u001b[0m\u001b[0;34m.\u001b[0m\u001b[0m_value\u001b[0m\u001b[0;34m\u001b[0m\u001b[0m\n\u001b[1;32m    643\u001b[0m         \u001b[0;32melse\u001b[0m\u001b[0;34m:\u001b[0m\u001b[0;34m\u001b[0m\u001b[0m\n\u001b[0;32m--> 644\u001b[0;31m             \u001b[0;32mraise\u001b[0m \u001b[0mself\u001b[0m\u001b[0;34m.\u001b[0m\u001b[0m_value\u001b[0m\u001b[0;34m\u001b[0m\u001b[0m\n\u001b[0m\u001b[1;32m    645\u001b[0m \u001b[0;34m\u001b[0m\u001b[0m\n\u001b[1;32m    646\u001b[0m     \u001b[0;32mdef\u001b[0m \u001b[0m_set\u001b[0m\u001b[0;34m(\u001b[0m\u001b[0mself\u001b[0m\u001b[0;34m,\u001b[0m \u001b[0mi\u001b[0m\u001b[0;34m,\u001b[0m \u001b[0mobj\u001b[0m\u001b[0;34m)\u001b[0m\u001b[0;34m:\u001b[0m\u001b[0;34m\u001b[0m\u001b[0m\n",
      "\u001b[0;31mValueError\u001b[0m: x and y must have same first dimension, but have shapes (90366, 1) and (1,)"
     ]
    },
    {
     "name": "stdout",
     "output_type": "stream",
     "text": [
      "-1.4130302727220143 9.759042311080268\n"
     ]
    }
   ],
   "source": [
    "ft = [['rf',10,800],['gbm',40,7,0.1,1000]]\n",
    "with closing(Pool(2)) as pool:\n",
    "    pool.map(which_class,ft)"
   ]
  },
  {
   "cell_type": "code",
   "execution_count": null,
   "metadata": {},
   "outputs": [],
   "source": []
  }
 ],
 "metadata": {
  "kernelspec": {
   "display_name": "Python 3",
   "language": "python",
   "name": "python3"
  },
  "language_info": {
   "codemirror_mode": {
    "name": "ipython",
    "version": 3
   },
   "file_extension": ".py",
   "mimetype": "text/x-python",
   "name": "python",
   "nbconvert_exporter": "python",
   "pygments_lexer": "ipython3",
   "version": "3.5.4"
  }
 },
 "nbformat": 4,
 "nbformat_minor": 2
}
