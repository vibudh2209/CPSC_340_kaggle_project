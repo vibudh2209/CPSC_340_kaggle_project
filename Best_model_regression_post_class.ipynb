{
 "cells": [
  {
   "cell_type": "code",
   "execution_count": 11,
   "metadata": {},
   "outputs": [],
   "source": [
    "import numpy as np\n",
    "import pandas as pd\n",
    "from sklearn.ensemble import RandomForestRegressor,GradientBoostingRegressor\n",
    "import time, random\n",
    "import multiprocessing\n",
    "from multiprocessing import Pool\n",
    "from contextlib import closing\n",
    "from functools import partial\n",
    "from sklearn.metrics import precision_score,recall_score,accuracy_score,roc_curve,auc,mean_squared_error\n",
    "from scipy.stats import mode\n",
    "import argparse\n",
    "from sklearn.externals import joblib\n",
    "import matplotlib.pyplot as plt"
   ]
  },
  {
   "cell_type": "code",
   "execution_count": 15,
   "metadata": {},
   "outputs": [],
   "source": [
    "def rf_regressor(feat):\n",
    "    t=time.time()\n",
    "    max_features,n_estimators,cf = feat\n",
    "    X_train = pd.read_csv('X_train_after_classification.csv',sep=',',header=0).values\n",
    "    y_train = pd.read_csv('y_train_after_classification.csv',sep=',',header=None).values\n",
    "    y_train = np.log(1+y_train)\n",
    "    X_pos = np.array([X_train[i,:] for i in range(X_train.shape[0]) if (y_train[i]>0)])\n",
    "    y_pos = y_train[y_train>0]\n",
    "    X_neg = np.array([X_train[i,:] for i in range(X_train.shape[0]) if (y_train[i]==0)])\n",
    "    y_neg = y_train[y_train==0]\n",
    "    over_samp_ct = y_neg.shape[0]\n",
    "    _,d = X_pos.shape\n",
    "    n_pos_train = X_pos.shape[0]\n",
    "    n_neg_train = X_neg.shape[0]\n",
    "    Over_under_X_train = np.zeros([over_samp_ct*2,d])\n",
    "    Over_under_y_train = np.zeros([over_samp_ct*2,])\n",
    "    for i in range(over_samp_ct):\n",
    "        idx_pos = random.randint(0,n_pos_train-1)\n",
    "        idx_neg = random.randint(0,n_neg_train-1)\n",
    "        Over_under_X_train[2*i,:] = X_pos[idx_pos,:]\n",
    "        Over_under_y_train[2*i] = y_pos[idx_pos]\n",
    "        Over_under_X_train[2*i+1,:] = X_neg[idx_neg,:]\n",
    "        Over_under_y_train[2*i+1] = y_neg[idx_neg]\n",
    "    rf = RandomForestRegressor(n_estimators=n_estimators,max_features=max_features).fit(Over_under_X_train,Over_under_y_train)\n",
    "    X_pos = []\n",
    "    y_pos = []\n",
    "    X_neg = []\n",
    "    y_neg = []\n",
    "    Over_under_X_train = []\n",
    "    Over_under_y_train = []\n",
    "    X_valid = pd.read_csv('X_valid_after_classification.csv',sep=',',header=0).values\n",
    "    y_valid = pd.read_csv('y_valid_after_classification.csv',sep=',',header=None).values\n",
    "    y_valid = np.log(1+y_valid)\n",
    "    train_pred = rf.score(X_train,y_train)\n",
    "    valid_pred = rf.score(X_valid,y_valid)\n",
    "    \n",
    "    print(time.time()-t)\n",
    "    \n",
    "    y_pred_valid = rf.predict(X_valid)\n",
    "    y_pred_valid[y_pred_valid<cf] = 0\n",
    "    \n",
    "    print(valid_pred,mean_squared_error(y_valid,y_pred_valid))\n",
    "    joblib.dump(rf,'Random_forest_regressor_post_class_best.sav')\n",
    "    plt.figure()\n",
    "    plt.scatter(y_valid,y_pred_valid)\n",
    "    plt.xlabel(\"True values\")\n",
    "    plt.ylabel(\"Predictions\")\n",
    "    plt.title(\"Prediction vs True, MSE: \"+str(np.round(mean_squared_error(y_valid,y_pred_valid),2)))\n",
    "    plt.savefig('Regression_rf_post_class.png')"
   ]
  },
  {
   "cell_type": "code",
   "execution_count": 16,
   "metadata": {},
   "outputs": [],
   "source": [
    "def gbm_regressor(feat):\n",
    "    t=time.time()\n",
    "    max_features,max_depth,learning_rate,n_estimators,cf = feat\n",
    "    X_train = pd.read_csv('X_train_after_classification.csv',sep=',',header=0).values\n",
    "    y_train = pd.read_csv('y_train_after_classification.csv',sep=',',header=None).values\n",
    "    y_train = np.log(1+y_train)\n",
    "    X_pos = np.array([X_train[i,:] for i in range(X_train.shape[0]) if (y_train[i]>0)])\n",
    "    y_pos = y_train[y_train>0]\n",
    "    X_neg = np.array([X_train[i,:] for i in range(X_train.shape[0]) if (y_train[i]==0)])\n",
    "    y_neg = y_train[y_train==0]\n",
    "    over_samp_ct = y_neg.shape[0]\n",
    "    _,d = X_pos.shape\n",
    "    n_pos_train = X_pos.shape[0]\n",
    "    n_neg_train = X_neg.shape[0]\n",
    "    Over_under_X_train = np.zeros([over_samp_ct*2,d])\n",
    "    Over_under_y_train = np.zeros([over_samp_ct*2,])\n",
    "    for i in range(over_samp_ct):\n",
    "        idx_pos = random.randint(0,n_pos_train-1)\n",
    "        idx_neg = random.randint(0,n_neg_train-1)\n",
    "        Over_under_X_train[2*i,:] = X_pos[idx_pos,:]\n",
    "        Over_under_y_train[2*i] = y_pos[idx_pos]\n",
    "        Over_under_X_train[2*i+1,:] = X_neg[idx_neg,:]\n",
    "        Over_under_y_train[2*i+1] = y_neg[idx_neg]\n",
    "    rf = GradientBoostingRegressor(n_estimators=n_estimators,max_features=max_features,max_depth=max_depth,learning_rate=learning_rate).fit(Over_under_X_train,Over_under_y_train)\n",
    "    X_pos = []\n",
    "    y_pos = []\n",
    "    X_neg = []\n",
    "    y_neg = []\n",
    "    Over_under_X_train = []\n",
    "    Over_under_y_train = []\n",
    "    X_valid = pd.read_csv('X_valid_after_classification.csv',sep=',',header=0).values\n",
    "    y_valid = pd.read_csv('y_valid_after_classification.csv',sep=',',header=None).values\n",
    "    y_valid = np.log(1+y_valid)\n",
    "    train_pred = rf.score(X_train,y_train)\n",
    "    valid_pred = rf.score(X_valid,y_valid)\n",
    "    \n",
    "    print(time.time()-t)\n",
    "    y_pred_train = rf.predict(X_train)\n",
    "    y_pred_valid = rf.predict(X_valid)\n",
    "    \n",
    "    print(valid_pred,mean_squared_error(y_valid,y_pred_valid))\n",
    "    joblib.dump(rf,'GBM_regressor_post_class_best.sav')\n",
    "    plt.figure()\n",
    "    plt.scatter(y_valid,y_pred_valid)\n",
    "    plt.xlabel(\"True values\")\n",
    "    plt.ylabel(\"Predictions\")\n",
    "    plt.title(\"Prediction vs True, MSE: \"+str(np.round(mean_squared_error(y_valid,y_pred_valid),2)))\n",
    "    plt.savefig('Regression_gbm_post_class.png')"
   ]
  },
  {
   "cell_type": "code",
   "execution_count": 17,
   "metadata": {},
   "outputs": [],
   "source": [
    "def which_class(ft):\n",
    "    cls,*ft = ft\n",
    "    if cls=='rf':\n",
    "        rf_regressor(ft)\n",
    "    elif cls=='gbm':\n",
    "        gbm_regressor(ft)"
   ]
  },
  {
   "cell_type": "code",
   "execution_count": 18,
   "metadata": {},
   "outputs": [
    {
     "name": "stdout",
     "output_type": "stream",
     "text": [
      "133.23869442939758\n",
      "0.045430868202191 65.97746174676877\n",
      "556.3898601531982\n",
      "0.057861863378204426 65.11826414665323\n"
     ]
    }
   ],
   "source": [
    "ft = [['rf',40,600,0.3759],['gbm',39,9,0.01,900,2.6314]]\n",
    "with closing(Pool(2)) as pool:\n",
    "    pool.map(which_class,ft)"
   ]
  },
  {
   "cell_type": "code",
   "execution_count": null,
   "metadata": {},
   "outputs": [],
   "source": []
  }
 ],
 "metadata": {
  "kernelspec": {
   "display_name": "Python 3",
   "language": "python",
   "name": "python3"
  },
  "language_info": {
   "codemirror_mode": {
    "name": "ipython",
    "version": 3
   },
   "file_extension": ".py",
   "mimetype": "text/x-python",
   "name": "python",
   "nbconvert_exporter": "python",
   "pygments_lexer": "ipython3",
   "version": "3.5.4"
  }
 },
 "nbformat": 4,
 "nbformat_minor": 2
}
