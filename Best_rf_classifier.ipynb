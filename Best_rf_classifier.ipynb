{
 "cells": [
  {
   "cell_type": "code",
   "execution_count": 3,
   "metadata": {},
   "outputs": [],
   "source": [
    "import numpy as np\n",
    "import pandas as pd\n",
    "from sklearn.ensemble import RandomForestClassifier, GradientBoostingClassifier\n",
    "from sklearn.linear_model import LogisticRegression\n",
    "import time, random\n",
    "import multiprocessing\n",
    "from multiprocessing import Pool\n",
    "from contextlib import closing\n",
    "from functools import partial\n",
    "from sklearn.metrics import precision_score,recall_score,accuracy_score,roc_curve,auc,precision_recall_curve\n",
    "from scipy.stats import mode\n",
    "from sklearn.externals import joblib\n",
    "import matplotlib.pyplot as plt"
   ]
  },
  {
   "cell_type": "code",
   "execution_count": 24,
   "metadata": {},
   "outputs": [],
   "source": [
    "def rf_classifier(feat):\n",
    "    t=time.time()\n",
    "    '''\n",
    "    max_features,n_estimators = feat\n",
    "    X_train = pd.read_csv('X_train.csv',sep=',',header=0).values\n",
    "    y_train = pd.read_csv('y_train.csv',sep=',',header=0).values\n",
    "    X_pos = np.array([X_train[i,:] for i in range(X_train.shape[0]) if (y_train[i]==1)])\n",
    "    y_pos = y_train[y_train==1]\n",
    "    X_neg = np.array([X_train[i,:] for i in range(X_train.shape[0]) if (y_train[i]==0)])\n",
    "    y_neg = y_train[y_train==0]\n",
    "    over_samp_ct = 100000\n",
    "    _,d = X_pos.shape\n",
    "    n_pos_train = X_pos.shape[0]\n",
    "    n_neg_train = X_neg.shape[0]\n",
    "    Over_under_X_train = np.zeros([over_samp_ct*2,d])\n",
    "    Over_under_y_train = np.zeros([over_samp_ct*2,])\n",
    "    for i in range(over_samp_ct):\n",
    "        idx_pos = random.randint(0,n_pos_train-1)\n",
    "        idx_neg = random.randint(0,n_neg_train-1)\n",
    "        Over_under_X_train[2*i,:] = X_pos[idx_pos,:]\n",
    "        Over_under_y_train[2*i] = y_pos[idx_pos]\n",
    "        Over_under_X_train[2*i+1,:] = X_neg[idx_neg,:]\n",
    "        Over_under_y_train[2*i+1] = y_neg[idx_neg]\n",
    "    #rf = RandomForestClassifier(n_estimators=n_estimators,max_features=max_features).fit(Over_under_X_train,Over_under_y_train)\n",
    "    '''\n",
    "    rf = joblib.load('Random_forest_classifier_best.sav')\n",
    "    X_pos = []\n",
    "    y_pos = []\n",
    "    X_neg = []\n",
    "    y_neg = []\n",
    "    Over_under_X_train = []\n",
    "    Over_under_y_train = []\n",
    "    X_valid = pd.read_csv('X_valid.csv',sep=',',header=0).values\n",
    "    y_valid = pd.read_csv('y_valid.csv',sep=',',header=None).values\n",
    "    #train_pred = rf.predict(X_train)\n",
    "    valid_pred = rf.predict_proba(X_valid)[:,1]\n",
    "    X_train = []\n",
    "    #fpr_tr, tpr_tr, thresh_tr = roc_curve(y_train, train_pred)\n",
    "    fpr_vl, tpr_vl, thresh_vl = roc_curve(y_valid, valid_pred)\n",
    "    pr,rl,tr = precision_recall_curve(y_valid,valid_pred)\n",
    "    #auc_tr = auc(fpr_tr,tpr_tr)\n",
    "    auc_vl = auc(fpr_vl,tpr_vl)\n",
    "    #pr_ar = auc(pr,rl)\n",
    "    pr_vl = pr[np.where(rl>0.9)[0][-1]]\n",
    "    print('rf',precision_score(y_valid,rf.predict(X_valid)),recall_score(y_valid,rf.predict(X_valid)))\n",
    "    print(\"threshold: \"+str(tr[np.where(rl>0.9)[0][-1]]))\n",
    "    #print(\"rf:\",str(pr[np.where(tr>0.5)[0][-1]]),str(rl[np.where(tr>0.5)[0][-1]]))\n",
    "    '''\n",
    "    plt.figure()\n",
    "    plt.plot(fpr_vl,tpr_vl)\n",
    "    plt.xlabel(\"False Positive Rate\")\n",
    "    plt.ylabel(\"True Positive Rate\")\n",
    "    plt.title(\"AUC for best Random Forest Model: \"+str(np.round(auc_vl,4)))\n",
    "    plt.savefig('AUC_for_best_Random_Forest_Model.png')\n",
    "    plt.figure()\n",
    "    plt.plot(rl,pr)\n",
    "    plt.xlabel(\"Recall\")\n",
    "    plt.ylabel(\"Precision\")\n",
    "    plt.title(\"Precision-Recall curve for best Random Forest Model\")\n",
    "    plt.savefig('PR_curve_for_best_Random_Forest_Model.png')\n",
    "    print(auc_vl,pr_vl)\n",
    "    #joblib.dump(rf,'Random_forest_classifier_best.sav')\n",
    "    '''"
   ]
  },
  {
   "cell_type": "code",
   "execution_count": 25,
   "metadata": {},
   "outputs": [],
   "source": [
    "def gbm_classifier(feat):\n",
    "    t=time.time()\n",
    "    '''\n",
    "    max_features,max_depth,learning_rate,n_estimators = feat\n",
    "    X_train = pd.read_csv('X_train.csv',sep=',',header=0).values\n",
    "    y_train = pd.read_csv('y_train.csv',sep=',',header=0).values\n",
    "    X_pos = np.array([X_train[i,:] for i in range(X_train.shape[0]) if (y_train[i]==1)])\n",
    "    y_pos = y_train[y_train==1]\n",
    "    X_neg = np.array([X_train[i,:] for i in range(X_train.shape[0]) if (y_train[i]==0)])\n",
    "    y_neg = y_train[y_train==0]\n",
    "    over_samp_ct = 100000\n",
    "    _,d = X_pos.shape\n",
    "    n_pos_train = X_pos.shape[0]\n",
    "    n_neg_train = X_neg.shape[0]\n",
    "    Over_under_X_train = np.zeros([over_samp_ct*2,d])\n",
    "    Over_under_y_train = np.zeros([over_samp_ct*2,])\n",
    "    for i in range(over_samp_ct):\n",
    "        idx_pos = random.randint(0,n_pos_train-1)\n",
    "        idx_neg = random.randint(0,n_neg_train-1)\n",
    "        Over_under_X_train[2*i,:] = X_pos[idx_pos,:]\n",
    "        Over_under_y_train[2*i] = y_pos[idx_pos]\n",
    "        Over_under_X_train[2*i+1,:] = X_neg[idx_neg,:]\n",
    "        Over_under_y_train[2*i+1] = y_neg[idx_neg]\n",
    "    rf = GradientBoostingClassifier(n_estimators=n_estimators,max_features=max_features,max_depth=max_depth,learning_rate=learning_rate).fit(Over_under_X_train,Over_under_y_train)\n",
    "    '''\n",
    "    rf = joblib.load('GBM_classifier_best.sav')\n",
    "    X_pos = []\n",
    "    y_pos = []\n",
    "    X_neg = []\n",
    "    y_neg = []\n",
    "    Over_under_X_train = []\n",
    "    Over_under_y_train = []\n",
    "    X_valid = pd.read_csv('X_valid.csv',sep=',',header=0).values\n",
    "    y_valid = pd.read_csv('y_valid.csv',sep=',',header=None).values\n",
    "    #train_pred = rf.predict(X_train)\n",
    "    valid_pred = rf.predict_proba(X_valid)[:,1]\n",
    "    X_train = []\n",
    "    #X_valid = []\n",
    "    #fpr_tr, tpr_tr, thresh_tr = roc_curve(y_train, train_pred)\n",
    "    fpr_vl, tpr_vl, thresh_vl = roc_curve(y_valid, valid_pred)\n",
    "\n",
    "    #auc_tr = auc(fpr_tr,tpr_tr)\n",
    "    auc_vl = auc(fpr_vl,tpr_vl)\n",
    "    \n",
    "    pr,rl,tr = precision_recall_curve(y_valid,valid_pred)\n",
    "    #pr_ar = auc(pr,rl)\n",
    "    pr_vl = pr[np.where(rl>0.9)[0][-1]]\n",
    "    print('gbm',precision_score(y_valid,rf.predict(X_valid)),recall_score(y_valid,rf.predict(X_valid)))\n",
    "    print(\"threshold: \"+str(tr[np.where(rl>0.9)[0][-1]]))\n",
    "    #print(\"gbm:\",str(pr[np.where(tr>0.5)[0][-1]]),str(rl[np.where(tr>0.5)[0][-1]]))\n",
    "    '''\n",
    "    plt.figure()\n",
    "    plt.plot(fpr_vl,tpr_vl)\n",
    "    plt.xlabel(\"False Positive Rate\")\n",
    "    plt.ylabel(\"True Positive Rate\")\n",
    "    plt.title(\"AUC for best GBM Model: \"+str(np.round(auc_vl,4)))\n",
    "    plt.savefig('AUC_for_best_GBM_Model.png')\n",
    "    plt.figure()\n",
    "    plt.plot(rl,pr)\n",
    "    plt.xlabel(\"Recall\")\n",
    "    plt.ylabel(\"Precision\")\n",
    "    plt.title(\"Precision-Recall curve for best GBM Model\")\n",
    "    plt.savefig('PR_curve_for_best_GBM_Model.png')\n",
    "    print(auc_vl,pr_vl)\n",
    "    #joblib.dump(rf,'GBM_classifier_best.sav')\n",
    "    '''"
   ]
  },
  {
   "cell_type": "code",
   "execution_count": 26,
   "metadata": {},
   "outputs": [],
   "source": [
    "def lr_classifier(feat):\n",
    "    t=time.time()\n",
    "    '''\n",
    "    C = feat[0]\n",
    "    X_train = pd.read_csv('X_train.csv',sep=',',header=0).values\n",
    "    y_train = pd.read_csv('y_train.csv',sep=',',header=0).values\n",
    "    X_pos = np.array([X_train[i,:] for i in range(X_train.shape[0]) if (y_train[i]==1)])\n",
    "    y_pos = y_train[y_train==1]\n",
    "    X_neg = np.array([X_train[i,:] for i in range(X_train.shape[0]) if (y_train[i]==0)])\n",
    "    y_neg = y_train[y_train==0]\n",
    "    over_samp_ct = 100000\n",
    "    _,d = X_pos.shape\n",
    "    n_pos_train = X_pos.shape[0]\n",
    "    n_neg_train = X_neg.shape[0]\n",
    "    Over_under_X_train = np.zeros([over_samp_ct*2,d])\n",
    "    Over_under_y_train = np.zeros([over_samp_ct*2,])\n",
    "    for i in range(over_samp_ct):\n",
    "        idx_pos = random.randint(0,n_pos_train-1)\n",
    "        idx_neg = random.randint(0,n_neg_train-1)\n",
    "        Over_under_X_train[2*i,:] = X_pos[idx_pos,:]\n",
    "        Over_under_y_train[2*i] = y_pos[idx_pos]\n",
    "        Over_under_X_train[2*i+1,:] = X_neg[idx_neg,:]\n",
    "        Over_under_y_train[2*i+1] = y_neg[idx_neg]\n",
    "    rf = LogisticRegression(C=C,penalty='l1').fit(Over_under_X_train,Over_under_y_train)\n",
    "    '''\n",
    "    rf = joblib.load('lr_classifier_best.sav')\n",
    "    X_pos = []\n",
    "    y_pos = []\n",
    "    X_neg = []\n",
    "    y_neg = []\n",
    "    Over_under_X_train = []\n",
    "    Over_under_y_train = []\n",
    "    X_valid = pd.read_csv('X_valid.csv',sep=',',header=0).values\n",
    "    y_valid = pd.read_csv('y_valid.csv',sep=',',header=None).values\n",
    "    #train_pred = rf.predict_proba(X_train)\n",
    "    valid_pred = rf.predict_proba(X_valid)[:,1]\n",
    "    X_train = []\n",
    "    X_valid = []\n",
    "    #fpr_tr, tpr_tr, thresh_tr = roc_curve(y_train, train_pred)\n",
    "    fpr_vl, tpr_vl, thresh_vl = roc_curve(y_valid, valid_pred)\n",
    "    \n",
    "    pr,rl,tr = precision_recall_curve(y_valid,valid_pred)\n",
    "    \n",
    "    #pr_ar = auc(pr,rl)\n",
    "    pr_vl = pr[np.where(rl>0.9)[0][-1]]\n",
    "    #auc_tr = auc(fpr_tr,tpr_tr)\n",
    "    auc_vl = auc(fpr_vl,tpr_vl)\n",
    "    plt.figure()\n",
    "    plt.plot(fpr_vl,tpr_vl)\n",
    "    plt.xlabel(\"False Positive Rate\")\n",
    "    plt.ylabel(\"True Positive Rate\")\n",
    "    plt.title(\"AUC for best Logestic Regression Model: \"+str(np.round(auc_vl,4)))\n",
    "    plt.savefig('AUC_for_best_Logestic_Regression_Model.png')\n",
    "    plt.figure()\n",
    "    plt.plot(rl,pr)\n",
    "    plt.xlabel(\"Recall\")\n",
    "    plt.ylabel(\"Precision\")\n",
    "    plt.title(\"Precision-Recall curve for best Logestic Regression Model\")\n",
    "    plt.savefig('PR_curve_for_best_Logestic_Regression_Model.png')\n",
    "    print(auc_vl,pr_vl)\n",
    "    #joblib.dump(rf,'lr_classifier_best.sav')"
   ]
  },
  {
   "cell_type": "code",
   "execution_count": 27,
   "metadata": {},
   "outputs": [],
   "source": [
    "def which_class(ft):\n",
    "    cls,*ft = ft\n",
    "    if cls=='lr':\n",
    "        lr_classifier(ft)\n",
    "    elif cls=='gbm':\n",
    "        gbm_classifier(ft)\n",
    "    elif cls=='rf':\n",
    "        rf_classifier(ft)"
   ]
  },
  {
   "cell_type": "code",
   "execution_count": 28,
   "metadata": {},
   "outputs": [
    {
     "name": "stdout",
     "output_type": "stream",
     "text": [
      "0.9837630268262498 0.26888139112379966\n",
      "gbm 0.17704556203689106 0.9756733275412685\n",
      "threshold: 0.879108024905775\n",
      "rf 0.24988078206962328 0.9105125977410947\n",
      "threshold: 0.5211111111111111\n"
     ]
    }
   ],
   "source": [
    "feat = [['rf',28,900],['gbm',33,3,0.1,500],['lr',10]]\n",
    "with closing(Pool(3)) as pool:\n",
    "    pool.map(which_class,feat)"
   ]
  },
  {
   "cell_type": "code",
   "execution_count": 6,
   "metadata": {},
   "outputs": [],
   "source": [
    "cls,*args = ['lr',33,3,0.1,500]"
   ]
  },
  {
   "cell_type": "code",
   "execution_count": 7,
   "metadata": {},
   "outputs": [
    {
     "data": {
      "text/plain": [
       "[33, 3, 0.1, 500]"
      ]
     },
     "execution_count": 7,
     "metadata": {},
     "output_type": "execute_result"
    }
   ],
   "source": [
    "args"
   ]
  },
  {
   "cell_type": "code",
   "execution_count": 20,
   "metadata": {},
   "outputs": [
    {
     "data": {
      "text/plain": [
       "0.988"
      ]
     },
     "execution_count": 20,
     "metadata": {},
     "output_type": "execute_result"
    }
   ],
   "source": [
    "np.round(0.98765,3)"
   ]
  },
  {
   "cell_type": "code",
   "execution_count": null,
   "metadata": {},
   "outputs": [],
   "source": []
  }
 ],
 "metadata": {
  "kernelspec": {
   "display_name": "Python 3",
   "language": "python",
   "name": "python3"
  },
  "language_info": {
   "codemirror_mode": {
    "name": "ipython",
    "version": 3
   },
   "file_extension": ".py",
   "mimetype": "text/x-python",
   "name": "python",
   "nbconvert_exporter": "python",
   "pygments_lexer": "ipython3",
   "version": "3.5.4"
  }
 },
 "nbformat": 4,
 "nbformat_minor": 2
}
